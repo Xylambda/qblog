{
 "cells": [
  {
   "cell_type": "markdown",
   "metadata": {},
   "source": [
    "---\n",
    "title: \"Machine Learning Notes III: Linear Regression\"\n",
    "author: \"Alejandro Pérez Sanjuán\"\n",
    "date: 2024-08-17\n",
    "categories: [machine learning, python, linear regression]\n",
    "format: html\n",
    "---"
   ]
  },
  {
   "cell_type": "markdown",
   "metadata": {},
   "source": [
    "Personal notes for myself about linear regression and how to implement it from scratch using least squares and gradient descent."
   ]
  },
  {
   "cell_type": "code",
   "execution_count": 1,
   "metadata": {},
   "outputs": [],
   "source": [
    "import numpy as np\n",
    "import matplotlib.pyplot as plt\n",
    "\n",
    "from sklearn.datasets import make_regression\n",
    "from sklearn.model_selection import KFold\n",
    "from sklearn.metrics import r2_score\n",
    "from sklearn.base import RegressorMixin"
   ]
  },
  {
   "cell_type": "markdown",
   "metadata": {},
   "source": [
    "## 1. Introduction\n",
    "\n",
    "Linear regression models the relationship between a dependent variable and one or more independent variables using a linear approach. The dependent variable is constructed as a linear combination of the indepent variables plus some noise. In matrix form, linear regression is expressed as\n",
    "\n",
    "$$\n",
    "Y = X \\cdot B + \\epsilon,\n",
    "$$\n",
    "\n",
    "where $Y$ is a vector of size $(n, 1)$, $X$ is a matrix of size $(n, p+1)$ representing the independent variables, $B$ is a vector of size $(p+1, 1)$ representing the coefficients that weight the features, $\\epsilon$ is a vector of size $(n, 1)$ and $n$ and $p$ are the number of samples and features respectively."
   ]
  },
  {
   "cell_type": "markdown",
   "metadata": {},
   "source": [
    "### 1.1. Least squares solution\n",
    "\n",
    "How do we optimize the coefficients? We can find the vector of $B$ that minimizes the residuals between the prediction and the true value. We have a function $S$ to minimize that depends on the parameters $B$\n",
    "\n",
    "$$\n",
    "S(B) = \\sum_j \\epsilon_{j}^2 = (Y - X \\cdot B)^{T} \\cdot (Y - X \\cdot B).\n",
    "$$\n",
    "\n",
    "Since $S(B)$ is a quadratic function its minimum exists albeit is not unique. Let's expand the above expression\n",
    "\n",
    "$$\n",
    "S(B) = Y^T Y - Y^T X B - B^T X^T Y + B^T X^T X B.\n",
    "$$\n",
    "\n",
    "We now differentiate $S$ with respect to $B$\n",
    "\n",
    "$$\n",
    "\\dfrac{\n",
    "    d S(B)\n",
    "}{\n",
    "    dB\n",
    "} = 0 -2 X^T Y + 2 X^T X B.\n",
    "$$\n",
    "\n",
    "To find the minum, we do $\\dfrac{d S(B)}{B}=0$ \n",
    "\n",
    "$$\n",
    "-2 X^T Y + 2 X^T X B = 0 \\rightarrow X^T X B = X^T Y,\n",
    "$$\n",
    "\n",
    "and then we solve for $B$\n",
    "\n",
    "$$\n",
    "B = (X^T X)^{-1} X^T Y.\n",
    "$$"
   ]
  },
  {
   "cell_type": "markdown",
   "metadata": {},
   "source": [
    "### 1.1. Gradient descent\n",
    "\n",
    "Another way of finding the parameters for the linear regression model is to ask the following question \"how does the error change when the parameters changes?\". The answer to this question provides a path that we can follow iteratively to reach the minimum error.\n",
    "\n",
    "We quantify the change in the error with respect to the parameters we use the derivative. Let's say we want to use the mean squared error (MSE) as a loss function $L$ to measure how accurate the estimated predictions $\\hat{Y}$ are with respect to the real values $Y$:\n",
    "\n",
    "$$\n",
    "L(B) = \\dfrac{1}{N} || Y - \\hat{Y}||^{2} = \\dfrac{1}{N}  \\left( Y -  \\hat{Y} \\right)^{T}\\left( Y -  \\hat{Y} \\right).\n",
    "$$\n",
    "\n",
    "Here, the MSE is the norm 2 of the differences between the estimated values and the real values.\n",
    "\n",
    "We now take the derivative of the loss function with respect to $B$. Refer to the previous section for a more complete proof.\n",
    "\n",
    "$$\n",
    "\\dfrac{\n",
    "    d S(B)\n",
    "}{\n",
    "    dB\n",
    "} = \\dfrac{1}{N} \\left( 0 -2 X^T Y + 2 X^T X B \\right) = \\dfrac{-2}{N} X^T \\left( Y - XB \\right).\n",
    "$$\n",
    "\n",
    "Having computed how much the error changes depending on the variation of the parameters $B$ we now use this information to update $B$ such that\n",
    "\n",
    "$$\n",
    "B = B - \\eta \\dfrac{d L(B)}{d B},\n",
    "$$\n",
    "\n",
    "where $\\eta$ is the learning rate, a parameter used to control how small or big the new changes are.\n",
    "\n",
    "The above operation is repeated for a fixed number of times called *epochs*. Each epoch represents a full traverse of the data $X$. We can traverse the data in 3 ways:\n",
    "\n",
    "* **Batch:** we use all elements of $X$ at once.\n",
    "* **Mini-batch:**: we use a subset $V$ of elements of $X$ such that $(1 < n_V < n_X)$, where $n$ represents the number of rows\n",
    "* **Stochastic:**: we use a subset $V$ of elements of $X$ such that $(n_V = 1)$"
   ]
  },
  {
   "cell_type": "markdown",
   "metadata": {},
   "source": [
    "## 2. Coding linear regression from scratch\n",
    "\n",
    "Below we find the code for both approaches: the ordinary least squares and the gradient descent method. The code is a direct translation of the math explained above."
   ]
  },
  {
   "cell_type": "code",
   "execution_count": 2,
   "metadata": {},
   "outputs": [],
   "source": [
    "class OLSLinearRegression(RegressorMixin):\n",
    "    \"\"\"Ordinary least squares regression.\n",
    "\n",
    "    Parameters\n",
    "    ----------\n",
    "    fit_intercept : bool, optional, default: True\n",
    "        True to fit the intercept of the linear regression.\n",
    "    \"\"\"\n",
    "    def __init__(self, fit_intercept=True):\n",
    "        self.fit_intercept = fit_intercept\n",
    "        self.coefficients_ = None\n",
    "\n",
    "    def fit(self, X, y):\n",
    "        if X.ndim != 2:\n",
    "            raise ValueError(\"Number of dims in features matrix must be 2\")\n",
    "\n",
    "        fit_intercept = self.fit_intercept\n",
    "        if fit_intercept:\n",
    "            n_features = len(X)\n",
    "            ones_col = np.ones((n_features, 1))\n",
    "            X = np.hstack((ones_col, X))\n",
    "\n",
    "        coeff = np.linalg.solve(np.dot(X.T, X), np.dot(X.T, y)) \n",
    "        #coeff = np.linalg.inv(X.T @ X) @ X.T @ y\n",
    "        self.coefficients_ = coeff\n",
    "\n",
    "    def predict(self, X):\n",
    "        fit_intercept = self.fit_intercept\n",
    "        coeff = self.coefficients_\n",
    "        \n",
    "        if fit_intercept:\n",
    "            return X @ coeff[1:] + coeff[0]\n",
    "        else:\n",
    "            return X @ coeff"
   ]
  },
  {
   "cell_type": "markdown",
   "metadata": {},
   "source": [
    "The gradient descen optimization uses the mean squared error but it can be changed by deriving the appropiate formulas and changing them in the code."
   ]
  },
  {
   "cell_type": "code",
   "execution_count": 3,
   "metadata": {},
   "outputs": [],
   "source": [
    "class GDLinearRegression(RegressorMixin):\n",
    "    \"\"\"Gradient descent linear regression.\n",
    "\n",
    "    Estimates the parameters using a gradient descent optimization\n",
    "    approach.\n",
    "    \n",
    "    Parameters\n",
    "    ----------\n",
    "    l_rate : float, optional, default: 1e-3\n",
    "        Learning rate.\n",
    "    batch_size : int, optional, default: 1\n",
    "        Batch size for the gradient descent algorithm. 1 will perform\n",
    "        a stochastic gradient descent.\n",
    "    \"\"\"\n",
    "    def __init__(\n",
    "        self,\n",
    "        l_rate=1e-3,\n",
    "        batch_size=1,\n",
    "        fit_intercept=True,\n",
    "        n_epochs=1_000\n",
    "    ):\n",
    "        self.l_rate = l_rate\n",
    "        self.batch_size = batch_size\n",
    "        self.fit_intercept = fit_intercept\n",
    "        self.n_epochs = n_epochs\n",
    "\n",
    "        # attributes\n",
    "        self.coefficients_ = None\n",
    "        self.loss = []\n",
    "\n",
    "    def _mse_loss(self, y_true, y_est):\n",
    "        return ((y_true - y_est) ** 2).mean()\n",
    "\n",
    "    def fit(self, X, y):\n",
    "        n_samples, n_features = X.shape\n",
    "        n_epochs = self.n_epochs\n",
    "        fit_intercept = self.fit_intercept\n",
    "        l_rate = self.l_rate\n",
    "        batch_size = self.batch_size\n",
    "        \n",
    "        if fit_intercept:\n",
    "            X = np.hstack((np.ones((n_samples, 1)), X))\n",
    "\n",
    "        coefficients_ = np.zeros(X.shape[1])\n",
    "\n",
    "        for _ in range(n_epochs):\n",
    "            for i in range(0, n_samples, batch_size):\n",
    "                X_batch = X[i:i + batch_size]\n",
    "                y_batch = y[i:i + batch_size]\n",
    "\n",
    "                # make prediction\n",
    "                prediction = X_batch @ coefficients_\n",
    "\n",
    "                # compute loss\n",
    "                _loss = self._mse_loss(y_batch, prediction)\n",
    "                self.loss.append(_loss)\n",
    "\n",
    "                # compute gradient\n",
    "                gradient = -(2 / batch_size) * X_batch.T @ (y_batch - prediction)\n",
    "\n",
    "                # update parameters\n",
    "                coefficients_ -= l_rate * gradient\n",
    "\n",
    "        self.coefficients_ = coefficients_\n",
    "\n",
    "    def predict(self, X):\n",
    "        if self.fit_intercept:\n",
    "            X = np.hstack((np.ones((X.shape[0], 1)), X))\n",
    "\n",
    "        return X @ self.coefficients_"
   ]
  },
  {
   "cell_type": "markdown",
   "metadata": {},
   "source": [
    "### 2.1. OLS example\n",
    "\n",
    "We use the ordinary least squares solution on the following dataset"
   ]
  },
  {
   "cell_type": "code",
   "execution_count": 4,
   "metadata": {},
   "outputs": [
    {
     "data": {
      "image/png": "[encoded data removed]",
      "text/plain": [
       "<Figure size 864x432 with 1 Axes>"
      ]
     },
     "metadata": {
      "needs_background": "light"
     },
     "output_type": "display_data"
    }
   ],
   "source": [
    "X, y = make_regression(n_samples=500, n_features=1, n_informative=1, n_targets=1, noise=10, random_state=0)\n",
    "\n",
    "fig, ax = plt.subplots(1, 1, figsize=(12, 6))\n",
    "\n",
    "ax.scatter(X, y)\n",
    "ax.grid(True, alpha=.3)\n",
    "ax.set_title(\"Dataset\", fontsize=24)\n",
    "ax.set_xlabel(\"Feature $x_{1}$\", fontsize=20)\n",
    "ax.set_ylabel(\"Label\", fontsize=20)\n",
    "ax.tick_params(labelsize=20)"
   ]
  },
  {
   "cell_type": "code",
   "execution_count": 5,
   "metadata": {},
   "outputs": [],
   "source": [
    "kf = KFold(n_splits=5)\n",
    "\n",
    "r2_scores = []\n",
    "for train_idx, test_idx in kf.split(X):\n",
    "    model = OLSLinearRegression()\n",
    "\n",
    "    X_train = X[train_idx]\n",
    "    y_train = y[train_idx]\n",
    "\n",
    "    X_test = X[test_idx]\n",
    "    y_test = y[test_idx]\n",
    "\n",
    "    model.fit(X_train, y_train)\n",
    "    y_pred = model.predict(X_test)\n",
    "\n",
    "    score = r2_score(y_true=y_test, y_pred=y_pred)\n",
    "    r2_scores.append(score)"
   ]
  },
  {
   "cell_type": "markdown",
   "metadata": {},
   "source": [
    "Pretty good results from this naive model on the synthetic dataset"
   ]
  },
  {
   "cell_type": "code",
   "execution_count": 6,
   "metadata": {},
   "outputs": [
    {
     "data": {
      "text/plain": [
       "0.9534244993205533"
      ]
     },
     "execution_count": 6,
     "metadata": {},
     "output_type": "execute_result"
    }
   ],
   "source": [
    "np.array(r2_scores).mean()"
   ]
  },
  {
   "cell_type": "markdown",
   "metadata": {},
   "source": [
    "### 2.2. Gradient descent example\n",
    "\n",
    "We perform the very same thing using the gradient descent solution"
   ]
  },
  {
   "cell_type": "code",
   "execution_count": 7,
   "metadata": {},
   "outputs": [],
   "source": [
    "kf = KFold(n_splits=5)\n",
    "\n",
    "r2_scores = []\n",
    "for train_idx, test_idx in kf.split(X):\n",
    "    model = GDLinearRegression(batch_size=32, n_epochs=10_000)\n",
    "\n",
    "    X_train = X[train_idx]\n",
    "    y_train = y[train_idx]\n",
    "\n",
    "    X_test = X[test_idx]\n",
    "    y_test = y[test_idx]\n",
    "\n",
    "    model.fit(X_train, y_train)\n",
    "    y_pred = model.predict(X_test)\n",
    "\n",
    "    score = r2_score(y_true=y_test, y_pred=y_pred)\n",
    "    r2_scores.append(score)"
   ]
  },
  {
   "cell_type": "markdown",
   "metadata": {},
   "source": [
    "It takes a bit longer due to the iterative nature of the algorithm but we achieve the same results."
   ]
  },
  {
   "cell_type": "code",
   "execution_count": 8,
   "metadata": {},
   "outputs": [
    {
     "data": {
      "text/plain": [
       "0.9534223387121132"
      ]
     },
     "execution_count": 8,
     "metadata": {},
     "output_type": "execute_result"
    }
   ],
   "source": [
    "np.array(r2_scores).mean()"
   ]
  },
  {
   "cell_type": "markdown",
   "metadata": {},
   "source": [
    "If we take the last model and plot its loss we observe a clear decrease the more batches we perform:"
   ]
  },
  {
   "cell_type": "code",
   "execution_count": 9,
   "metadata": {},
   "outputs": [
    {
     "data": {
      "image/png": "[encoded data removed]",
      "text/plain": [
       "<Figure size 864x432 with 1 Axes>"
      ]
     },
     "metadata": {
      "needs_background": "light"
     },
     "output_type": "display_data"
    }
   ],
   "source": [
    "fig, ax = plt.subplots(1, 1, figsize=(12, 6))\n",
    "ax.plot(model.loss)\n",
    "ax.grid(True, alpha=.3)\n",
    "\n",
    "ax.set_title(\"MSE Loss evolution\", fontsize=24)\n",
    "ax.set_xlabel(\"Batch \", fontsize=20)\n",
    "ax.set_ylabel(\"Loss\", fontsize=20)\n",
    "ax.tick_params(labelsize=20)"
   ]
  },
  {
   "cell_type": "markdown",
   "metadata": {},
   "source": [
    "## 3. Strengths and Weaknesses\n",
    "\n",
    "A summary of strenghts and weaknesses of this model.\n",
    "\n",
    "### Pros\n",
    "\n",
    "* Simple and escalable.\n",
    "* Interpretable.\n",
    "* Efficient for large datasets with linear relationships.\n",
    "\n",
    "### Cons\n",
    "\n",
    "* Assumes linear relationships.\n",
    "* Sensitive to outliers.\n",
    "* Limited at handling complex relationships"
   ]
  }
 ],
 "metadata": {
  "kernelspec": {
   "display_name": "torchfitter",
   "language": "python",
   "name": "python3"
  },
  "language_info": {
   "codemirror_mode": {
    "name": "ipython",
    "version": 3
   },
   "file_extension": ".py",
   "mimetype": "text/x-python",
   "name": "python",
   "nbconvert_exporter": "python",
   "pygments_lexer": "ipython3",
   "version": "3.7.10"
  }
 },
 "nbformat": 4,
 "nbformat_minor": 2
}
